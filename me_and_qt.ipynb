{
 "cells": [
  {
   "cell_type": "markdown",
   "metadata": {},
   "source": [
    "Import Packages"
   ]
  },
  {
   "cell_type": "code",
   "execution_count": null,
   "metadata": {},
   "outputs": [],
   "source": [
    "using Pkg\n",
    "Pkg.add(\"DifferentialEquations\")\n",
    "Pkg.add(\"Plots\")\n",
    "Pkg.add(\"LinearAlgebra\")\n",
    "Pkg.add(\"LaTeXStrings\")\n",
    "Pkg.add(\"Random\")\n",
    "Pkg.add(\"ColorSchemes\")"
   ]
  },
  {
   "cell_type": "markdown",
   "metadata": {},
   "source": [
    "Constants\n",
    "\n",
    "$\\Gamma_0 = 1$\n",
    "\n",
    "$\\Gamma_c = 5\\Gamma_0$"
   ]
  },
  {
   "cell_type": "code",
   "execution_count": null,
   "metadata": {},
   "outputs": [],
   "source": [
    "Γ_0 = 1\n",
    "Γ_c = 5Γ_0"
   ]
  },
  {
   "cell_type": "markdown",
   "metadata": {},
   "source": [
    "Operators\n",
    "\n",
    "$\\sigma_- = \\ket{g}\\bra{e} = \\begin{pmatrix} 0 & 1 \\\\ 0 & 0 \\end{pmatrix}$\n",
    "\n",
    "$\\sigma_+ = \\ket{e}\\bra{g} = \\begin{pmatrix} 0 & 0 \\\\ 1 & 0 \\end{pmatrix}$"
   ]
  },
  {
   "cell_type": "code",
   "execution_count": null,
   "metadata": {},
   "outputs": [],
   "source": [
    "σ_m = Matrix([0 1; 0 0])\n",
    "σ_p = Matrix([0 0 ; 1 0])"
   ]
  },
  {
   "cell_type": "markdown",
   "metadata": {},
   "source": [
    "Initial Conditions\n",
    "\n",
    "$\\ket{\\psi(t=0)} = \\ket{e} = \\begin{pmatrix} 0 \\\\ 1 \\end{pmatrix}$\n",
    "\n",
    "$\\rho(t=0) = \\ket{\\psi(0)}\\bra{\\psi(0)} = \\begin{pmatrix} 0 & 0 \\\\ 0 & 1 \\end{pmatrix}$"
   ]
  },
  {
   "cell_type": "code",
   "execution_count": null,
   "metadata": {},
   "outputs": [],
   "source": [
    "ψ_0 = [0.0;1.0]\n",
    "ρ_0 = ψ_0*ψ_0'"
   ]
  },
  {
   "cell_type": "markdown",
   "metadata": {},
   "source": [
    "Master Equation\n",
    "\n",
    "$\\dot{\\rho} = \\frac{\\Gamma_c + \\Gamma_0}{2}(2\\sigma_- \\rho \\sigma_+ - \\sigma_+\\sigma_-\\rho + \\rho\\sigma_+\\sigma_-)$"
   ]
  },
  {
   "cell_type": "code",
   "execution_count": null,
   "metadata": {},
   "outputs": [],
   "source": [
    "function master_equation!(dρ, ρ, u, t)\n",
    "    dρ[:, :] = (Γ_c + Γ_0)/(2) .* (2 .* (σ_m * ρ * σ_p) - (σ_p * σ_m * ρ) - (ρ * σ_p * σ_m))\n",
    "end"
   ]
  },
  {
   "cell_type": "markdown",
   "metadata": {},
   "source": [
    "Solving Master Equation"
   ]
  },
  {
   "cell_type": "code",
   "execution_count": null,
   "metadata": {},
   "outputs": [],
   "source": [
    "using DifferentialEquations\n",
    "t_span = (0.,1.0)\n",
    "prob = ODEProblem(master_equation!, ρ_0, t_span)\n",
    "sol = solve(prob, Tsit5(), reltol = 1e-8, abstol = 1e-8)"
   ]
  },
  {
   "cell_type": "markdown",
   "metadata": {},
   "source": [
    "Finding $<\\sigma_{ee}>$\n",
    "\n",
    "$\\sigma_{ee} = \\begin{pmatrix} 0 && 0 \\\\ 0 && 1 \\end{pmatrix}$\n",
    "\n",
    "$<\\sigma_{ee}(t)> = Tr(\\rho(t)\\sigma_{ee})$"
   ]
  },
  {
   "cell_type": "code",
   "execution_count": 8,
   "metadata": {},
   "outputs": [],
   "source": [
    "using LinearAlgebra\n",
    "\n",
    "# initializing \n",
    "σ_ee = Matrix([0 0 ; 0 1])\n",
    "ρ = sol.u\n",
    "time_arr_num = sol.t\n",
    "\n",
    "time_size = size(ρ)[1]\n",
    "σ_ee_exp = zeros(time_size)\n",
    "\n",
    "# taking trace over each time step to get expectation value for each time step\n",
    "for t in 1:time_size\n",
    "    σ_ee_exp[t] = tr(σ_ee * ρ[t])\n",
    "end"
   ]
  },
  {
   "cell_type": "markdown",
   "metadata": {},
   "source": [
    "Plotting Results for 1a"
   ]
  },
  {
   "cell_type": "code",
   "execution_count": null,
   "metadata": {},
   "outputs": [],
   "source": [
    "using Plots\n",
    "using LaTeXStrings\n",
    "\n",
    "σ_ee_exp_analytic = exp.(-(Γ_0 + Γ_c)*time_arr_num)\n",
    "\n",
    "plot(time_arr_num, σ_ee_exp_analytic, label = \"Analytic Solution\", labelfontsize = 20, color=:teal, linewidth=10, alpha=0.2, legend=false)\n",
    "\n",
    "labels = L\"<\\sigma_{ee}>\"\n",
    "plot!(time_arr_num, σ_ee_exp, label = \"Numerical Simulation\", labelfontsize = 20, color=:black, linewidth = 3, linestyle=:dot, alpha = .8)\n",
    "\n",
    "xlabel!(L\"\\Gamma_0 t\", fontsize = 15)\n",
    "ylabel!(L\"<\\sigma_{ee}(t)>\", fontsize = 15)\n",
    "plot!(legend=:top, legendfontsize = 15, xtickfontsize=15, ytickfontsize=15)\n",
    "plot!(size=(1050,750))"
   ]
  },
  {
   "cell_type": "markdown",
   "metadata": {},
   "source": [
    "# Quantum Trajectories"
   ]
  },
  {
   "cell_type": "markdown",
   "metadata": {},
   "source": [
    "First order approximation of evolution with non-Hermitian Hamiltonian $H_{eff}$\n",
    "\n",
    "$\\ket{\\psi^1(t+\\delta t)} = (1 - iH_{eff}\\delta t)(\\ket{\\psi (t)})$\n",
    "\n",
    "To continuously normalize evolution\n",
    "\n",
    "$\\braket{\\psi^1(t+\\delta t)|\\psi^1(t+ \\delta t)} = \\bra{\\psi(t)}(1 + iH_{eff}\\delta t)(1 - iH_{eff}\\delta t)\\ket{\\psi(t)} = 1 - \\delta p$\n",
    "\n",
    "where, $\\delta p = \\delta t \\sum_{m}\\bra{\\psi(t)}c^{\\dagger}_{m}c_{m}\\ket{\\psi(t)} \\equiv \\sum_{m}\\delta p_{m}$\n",
    "\n",
    "The interpretation is that $\\delta p_m$ is the probability of the action descibed by $c_m$ occuring in that time step\n",
    "\n",
    "In this problem with 1 atom approximated by 2 level system $H_{eff}$ is\n",
    "\n",
    "$H_{eff} = -\\frac{i}{2} (\\Gamma_0 + \\Gamma_c)(\\sigma_{+}\\sigma_{-})$"
   ]
  },
  {
   "cell_type": "markdown",
   "metadata": {},
   "source": [
    "Defining simulation parameters"
   ]
  },
  {
   "cell_type": "code",
   "execution_count": null,
   "metadata": {},
   "outputs": [],
   "source": [
    "time_steps = 1000\n",
    "δt = .001\n",
    "trajectories = 1000"
   ]
  },
  {
   "cell_type": "markdown",
   "metadata": {},
   "source": [
    "Defining operators"
   ]
  },
  {
   "cell_type": "code",
   "execution_count": null,
   "metadata": {},
   "outputs": [],
   "source": [
    "using LinearAlgebra\n",
    "H_eff = -1im/2 .* (Γ_0+Γ_c) .* (σ_p * σ_m)\n",
    "Id = Matrix{Float64}(I, 2, 2)\n",
    "time_arr_traj = [δt * i for i in 0:time_steps-1]"
   ]
  },
  {
   "cell_type": "markdown",
   "metadata": {},
   "source": [
    "Iterative process of calculating quantum trajectories"
   ]
  },
  {
   "cell_type": "code",
   "execution_count": null,
   "metadata": {},
   "outputs": [],
   "source": [
    "expec_avg = [0.0 for i in 1:time_steps]\n",
    "\n",
    "for a in 1:trajectories\n",
    "    expec = [0.0 for i in 1:time_steps]\n",
    "\n",
    "    # Storing wavevector in matrix (2 by time_steps) with initial time set to excited state [0,1]\n",
    "    ψ = [0.0 for i in 1:time_steps, j in 1:2]; ψ[1,:] = ψ_0\n",
    "\n",
    "    for t in 1:time_steps-1\n",
    "\n",
    "        # Calculating first order of wavefunction after a time step\n",
    "        first_order = (Id - 1im .* H_eff .* δt) * ψ[t,:]\n",
    "    \n",
    "        # Calculating probability of jump operator acting within time step\n",
    "        δp = δt * (ψ[t,:]' * ((Γ_c+Γ_0) .* (σ_p * σ_m)) * ψ[t,:])\n",
    "    \n",
    "        # Generating random number to determine action within time step\n",
    "        r = rand(Float64)\n",
    "    \n",
    "        # Updating wavevector based on result of r\n",
    "        if r > δp\n",
    "            ψ[t+1,:] = first_order / (1-δp)^(1/2)\n",
    "        else\n",
    "            ψ[t+1,:] = (Γ_0+Γ_c)^(1/2) .* σ_m * (ψ[t,:]) / (δp/δt)^(1/2)\n",
    "        end\n",
    "    \n",
    "        # Updating expectation value for each time step\n",
    "        expec[t] = ψ[t,:]' * σ_ee * ψ[t,:]\n",
    "        expec_avg[t] = expec_avg[t] + expec[t]\n",
    "    end\n",
    "end\n",
    "expec_avg = expec_avg ./ trajectories\n"
   ]
  },
  {
   "cell_type": "code",
   "execution_count": 13,
   "metadata": {},
   "outputs": [],
   "source": [
    "trajectories = [5, 50, 500, 5000]\n",
    "expec_avg_arr = [zeros(1000) for _ in 1:length(trajectories)]\n",
    "\n",
    "# First loop repeats same process for different number of trajectories\n",
    "\n",
    "for i in 1:length(trajectories)\n",
    "    expec_avg = [0.0 for i in 1:time_steps]\n",
    "    for a in 1:trajectories[i]\n",
    "        expec = [0.0 for i in 1:time_steps]\n",
    "    \n",
    "        # Storing wavevector in matrix (2 by time_steps) with initial time set to excited state [0,1]\n",
    "        ψ = [0.0 for i in 1:time_steps, j in 1:2]; ψ[1,:] = ψ_0\n",
    "    \n",
    "        for t in 1:time_steps-1\n",
    "    \n",
    "            # Calculating first order of wavefunction after a time step\n",
    "            first_order = (Id - 1im .* H_eff .* δt) * ψ[t,:]\n",
    "        \n",
    "            # Calculating probability of jump operator acting within time step\n",
    "            δp = δt * (ψ[t,:]' * ((Γ_c+Γ_0) .* (σ_p * σ_m)) * ψ[t,:])\n",
    "        \n",
    "            # Generating random number to determine action within time step\n",
    "            r = rand(Float64)\n",
    "        \n",
    "            # Updating wavevector based on result of r\n",
    "            if r > δp\n",
    "                ψ[t+1,:] = first_order / (1-δp)^(1/2)\n",
    "            else\n",
    "                ψ[t+1,:] = (Γ_0+Γ_c)^(1/2) .* σ_m * (ψ[t,:]) / (δp/δt)^(1/2)\n",
    "            end\n",
    "        \n",
    "            # Updating expectation value for each time step\n",
    "            expec[t] = ψ[t,:]' * σ_ee * ψ[t,:]\n",
    "            expec_avg[t] = expec_avg[t] + expec[t]\n",
    "        end\n",
    "    end\n",
    "    expec_avg = expec_avg ./ trajectories[i]\n",
    "    expec_avg_arr[i] = expec_avg\n",
    "\n",
    "end"
   ]
  },
  {
   "cell_type": "code",
   "execution_count": null,
   "metadata": {},
   "outputs": [],
   "source": [
    "using Plots\n",
    "using LaTeXStrings\n",
    "\n",
    "my_colors = [\n",
    "    RGB(0.0, 0.447, 0.69),\n",
    "    RGB(0.85, 0.325, 0.098),\n",
    "    RGB(0.929, 0.694, 0.125),\n",
    "    RGB(0.494, 0.184, 0.556)\n",
    "]\n",
    "\n",
    "plot(time_arr_num, σ_ee_exp, linestyle=:dot, label = L\"\\textnormal{Numerical}\", color=:black, linewidth=3, alpha=0.8)\n",
    "labels = [L\"n_t = 5\", L\"n_t = 50\", L\"n_t = 500\", L\"n_t = 5000\"]\n",
    "\n",
    "for i in 1:length(trajectories)\n",
    "    plot!(time_arr_traj, expec_avg_arr[i], linewidth=3, color=my_colors[i], alpha=0.6, label=labels[i])\n",
    "end\n",
    "\n",
    "xlabel!(L\"\\Gamma_0 t\", fontsize=30)\n",
    "ylabel!(L\"<\\sigma_{ee}(t)>\", fontsize=30)\n",
    "plot!(legend=:top, legendfontsize=15, xtickfontsize=15, ytickfontsize=15)\n",
    "plot!(size=(900, 750))"
   ]
  },
  {
   "cell_type": "code",
   "execution_count": null,
   "metadata": {},
   "outputs": [],
   "source": [
    "using LaTeXStrings\n",
    "plot(time_arr_num, σ_ee_exp, linestyle=:dot, labelfontsize = 20, color=:black, linewidth = 3, alpha = .8, legend = false)\n",
    "plot!(time_arr_traj, expec_avg_arr[4], linewidth = 3, color =:blue, alpha = .4, legend = false)\n",
    "xlabel!(L\"\\Gamma_0 t\", fontsize = 40)\n",
    "ylabel!(L\"$\\langle \\sigma_{ee}(t) \\rangle$\", fontsize = 40)\n",
    "plot!(xtickfontsize=15, ytickfontsize=15)\n",
    "plot!(size=(900,750))\n",
    "#savefig(\"img2_4\")"
   ]
  },
  {
   "cell_type": "markdown",
   "metadata": {},
   "source": [
    "## Atoms in a Cavity"
   ]
  },
  {
   "cell_type": "markdown",
   "metadata": {},
   "source": [
    "Defining parameters and operators"
   ]
  },
  {
   "cell_type": "code",
   "execution_count": null,
   "metadata": {},
   "outputs": [],
   "source": [
    "using LinearAlgebra\n",
    "\n",
    "num_atoms = 5\n",
    "Γ_0 = 1.\n",
    "Γ_c = 2.\n",
    "\n",
    "# Defining state and density matrix as fully excited\n",
    "ψ_e = [0,1]\n",
    "ψ_0 = ψ_e\n",
    "for i in 1:num_atoms-1\n",
    "    ψ_0 = kron(ψ_0,ψ_e)\n",
    "end\n",
    "ρ_0 = ψ_0 * ψ_0'\n",
    "\n",
    "# Defining raising and lowering operators for each corresponding atom number and storing in a single tensor (N dim Vector of 2N*2N Matrices)\n",
    "σ_m = Matrix([0 1; 0 0])\n",
    "σ_p = Matrix([0 0 ; 1 0])\n",
    "σ_ee = Matrix([0 0 ; 0 1])\n",
    "Id = [1 0; 0 1]\n",
    "\n",
    "# Initializing raising and lowering operators for all \n",
    "σ_m_n = [Matrix{Float64}(I, 2^num_atoms, 2^num_atoms) for _ in 1:num_atoms]\n",
    "σ_p_n = [Matrix{Float64}(I, 2^num_atoms, 2^num_atoms) for _ in 1:num_atoms]\n",
    "σ_ee_n = [Matrix{Float64}(I, 2^num_atoms, 2^num_atoms) for _ in 1:num_atoms]\n",
    "\n",
    "# Changing the matrix for corresponding n to be a jump operator for the nth atom\n",
    "σ_m_hold = Id\n",
    "σ_p_hold = Id\n",
    "σ_ee_hold = Id\n",
    "\n",
    "for n in 1:num_atoms\n",
    "    \n",
    "    for a in 1:num_atoms\n",
    "        \n",
    "        if (a == 1) && (n == 1)\n",
    "            σ_m_hold = σ_m\n",
    "            σ_p_hold = σ_p\n",
    "            σ_ee_hold = σ_ee\n",
    "        \n",
    "        elseif (a == 1) && (n != 1)\n",
    "            σ_m_hold = Id\n",
    "            σ_p_hold = Id\n",
    "            σ_ee_hold = Id\n",
    "\n",
    "        elseif (a != 1) && (n == a)\n",
    "            σ_m_hold = kron(σ_m_hold, σ_m)\n",
    "            σ_p_hold = kron(σ_p_hold, σ_p)\n",
    "            σ_ee_hold = kron(σ_ee_hold, σ_ee)\n",
    "        \n",
    "        else\n",
    "            σ_m_hold = kron(σ_m_hold, Id)\n",
    "            σ_p_hold = kron(σ_p_hold, Id)\n",
    "            σ_ee_hold = kron(σ_ee_hold, Id)\n",
    "        end\n",
    "\n",
    "    end\n",
    "    σ_m_n[n] = σ_m_hold\n",
    "    σ_p_n[n] = σ_p_hold\n",
    "    σ_ee_n[n] = σ_ee_hold\n",
    "end\n",
    "\n",
    "gamma_matrix = (Γ_c .* ones(num_atoms, num_atoms)) .+ (Γ_0 .* Matrix{Float64}(I, num_atoms, num_atoms))"
   ]
  },
  {
   "cell_type": "markdown",
   "metadata": {},
   "source": [
    "Defining master equation"
   ]
  },
  {
   "cell_type": "code",
   "execution_count": null,
   "metadata": {},
   "outputs": [],
   "source": [
    "function master_equation!(dρ, ρ, u, t)\n",
    "    d_hold = zeros(size(dρ))\n",
    "    for i in 1:num_atoms\n",
    "        for j in 1:num_atoms\n",
    "            d_hold[:,:] = d_hold[:,:] + ((1/2) .* gamma_matrix[i,j] .* (2 .* σ_m_n[j] * ρ * σ_p_n[i] - σ_p_n[i] * σ_m_n[j] * ρ - ρ * σ_p_n[i] * σ_m_n[j]))\n",
    "        end\n",
    "    end\n",
    "    dρ[:,:] = d_hold\n",
    "end"
   ]
  },
  {
   "cell_type": "markdown",
   "metadata": {},
   "source": [
    "Solving master equation"
   ]
  },
  {
   "cell_type": "code",
   "execution_count": null,
   "metadata": {},
   "outputs": [],
   "source": [
    "using DifferentialEquations\n",
    "t_span = (0.,1.0)\n",
    "prob = ODEProblem(master_equation!, ρ_0, t_span)\n",
    "sol = solve(prob, Tsit5(), reltol = 1e-8, abstol = 1e-8)"
   ]
  },
  {
   "cell_type": "markdown",
   "metadata": {},
   "source": [
    "Taking trace to find expectation value of total excitations over time\n",
    "\n",
    "$<\\sum_i \\sigma_{ee}^{i}> = Tr(\\sum_i \\rho\\sigma_{ee}^{i})$"
   ]
  },
  {
   "cell_type": "code",
   "execution_count": 134,
   "metadata": {},
   "outputs": [],
   "source": [
    "ρ = sol.u\n",
    "time_arr_num = sol.t\n",
    "\n",
    "σ_ee_exp_num = zeros(length(time_arr_num))\n",
    "\n",
    "σ_ee_sum = zeros(2^num_atoms,2^num_atoms)\n",
    "for n in 1:num_atoms\n",
    "    σ_ee_sum += σ_ee_n[n]\n",
    "end\n",
    "\n",
    "# Taking trace of the sum for each time step\n",
    "for t in 1:length(time_arr_num)\n",
    "    σ_ee_exp_num[t] = tr(ρ[t] * σ_ee_sum)\n",
    "end"
   ]
  },
  {
   "cell_type": "code",
   "execution_count": null,
   "metadata": {},
   "outputs": [],
   "source": [
    "using Plots\n",
    "using LaTeXStrings\n",
    "\n",
    "plot(time_arr_num, σ_ee_exp_num)\n",
    "\n",
    "xlabel!(L\"\\Gamma_0 t\", fontsize=15)\n",
    "ylabel!(L\"<\\sum_i \\sigma_{ee}^i(t)>\", fontsize=15)\n",
    "plot!(legend = false, xtickfontsize=10, ytickfontsize=10)\n",
    "plot!(size=(900, 750))\n",
    "\n",
    "#savefig(\"img3_4\")"
   ]
  },
  {
   "cell_type": "markdown",
   "metadata": {},
   "source": [
    "Calculating Rate of Change"
   ]
  },
  {
   "cell_type": "code",
   "execution_count": null,
   "metadata": {},
   "outputs": [],
   "source": [
    "dR = -1 .* diff(σ_ee_exp)\n",
    "dt = diff(time_arr)\n",
    "time_arr_burst = time_arr[1:end-1]\n",
    "\n",
    "ROC = dR ./ dt"
   ]
  },
  {
   "cell_type": "markdown",
   "metadata": {},
   "source": [
    "Plotting Rate of Change"
   ]
  },
  {
   "cell_type": "code",
   "execution_count": null,
   "metadata": {},
   "outputs": [],
   "source": [
    "using Plots\n",
    "\n",
    "plot(time_arr_burst, ROC)\n",
    "xlabel!(L\"\\Gamma_0 t\", fontsize=100)\n",
    "ylabel!(L\"R(t)\", fontsize=100)\n",
    "plot!(legend = false, xtickfontsize=10, ytickfontsize=10)\n",
    "plot!(size=(900, 750))\n",
    "#savefig(\"img5_4\")"
   ]
  },
  {
   "cell_type": "markdown",
   "metadata": {},
   "source": [
    "## Quantum Trajectories for Multiple Atoms in a Cavity"
   ]
  },
  {
   "cell_type": "markdown",
   "metadata": {},
   "source": [
    "Solving Eigenvalue/Eigenvector problem to find operators"
   ]
  },
  {
   "cell_type": "code",
   "execution_count": null,
   "metadata": {},
   "outputs": [],
   "source": [
    "using LinearAlgebra\n",
    "\n",
    "# Defining matrix (NxN) holding values of decay rates\n",
    "num_atoms = 5\n",
    "Γ_0 = 1.\n",
    "Γ_c = 2.\n",
    "\n",
    "# Defining raising and lowering operators for each corresponding atom number and storing in a single tensor (N dim Vector of 2N*2N Matrices)\n",
    "σ_m = Matrix([0 1; 0 0])\n",
    "σ_p = Matrix([0 0 ; 1 0])\n",
    "σ_ee = Matrix([0 0 ; 0 1])\n",
    "Id = [1 0; 0 1]\n",
    "\n",
    "# Initializing raising and lowering operators for all \n",
    "σ_m_n = [Matrix{Float64}(I, 2^num_atoms, 2^num_atoms) for _ in 1:num_atoms]\n",
    "σ_p_n = [Matrix{Float64}(I, 2^num_atoms, 2^num_atoms) for _ in 1:num_atoms]\n",
    "σ_ee_n = [Matrix{Float64}(I, 2^num_atoms, 2^num_atoms) for _ in 1:num_atoms]\n",
    "c = [Matrix{Float64}(zeros(2^num_atoms, 2^num_atoms)) for _ in 1:num_atoms]\n",
    "\n",
    "# Changing the matrix for corresponding n to be a jump operator for the nth atom\n",
    "σ_m_hold = Id\n",
    "σ_p_hold = Id\n",
    "σ_ee_hold = Id\n",
    "\n",
    "for n in 1:num_atoms\n",
    "    \n",
    "    for a in 1:num_atoms\n",
    "        \n",
    "        if (a == 1) && (n == 1)\n",
    "            σ_m_hold = σ_m\n",
    "            σ_p_hold = σ_p\n",
    "            σ_ee_hold = σ_ee\n",
    "        \n",
    "        elseif (a == 1) && (n != 1)\n",
    "            σ_m_hold = Id\n",
    "            σ_p_hold = Id\n",
    "            σ_ee_hold = Id\n",
    "\n",
    "        elseif (a != 1) && (n == a)\n",
    "            σ_m_hold = kron(σ_m_hold, σ_m)\n",
    "            σ_p_hold = kron(σ_p_hold, σ_p)\n",
    "            σ_ee_hold = kron(σ_ee_hold, σ_ee)\n",
    "        \n",
    "        else\n",
    "            σ_m_hold = kron(σ_m_hold, Id)\n",
    "            σ_p_hold = kron(σ_p_hold, Id)\n",
    "            σ_ee_hold = kron(σ_ee_hold, Id)\n",
    "        end\n",
    "\n",
    "    end\n",
    "    σ_m_n[n] = σ_m_hold\n",
    "    σ_p_n[n] = σ_p_hold\n",
    "    σ_ee_n[n] = σ_ee_hold\n",
    "end\n",
    "\n",
    "σ_ee_sum = zeros(2^(num_atoms), 2^(num_atoms))\n",
    "for n in 1:num_atoms\n",
    "    σ_ee_sum += σ_ee_n[n]\n",
    "end\n",
    "\n",
    "gamma_matrix = (Γ_c .* ones(num_atoms, num_atoms)) .+ (Γ_0 .* Matrix{Float64}(I, num_atoms, num_atoms))\n",
    "\n",
    "eig_vals = eigvals(gamma_matrix)\n",
    "eig_vecs = eigvecs(gamma_matrix)\n",
    "\n",
    "# Defining diagonalized operators\n",
    "for m in 1:num_atoms\n",
    "    for n in 1:num_atoms\n",
    "        c[m] += eig_vecs[n,m] .* σ_m_n[n]\n",
    "    end\n",
    "end\n",
    "\n",
    "# Defining H_eff\n",
    "H_eff = zeros(2^(num_atoms), 2^(num_atoms))\n",
    "\n",
    "for m in 1:num_atoms\n",
    "    H_eff += (-1im .* eig_vals[m] .* c[m]' * c[m])/2\n",
    "end\n",
    "\n",
    "println(eig_vals)"
   ]
  },
  {
   "cell_type": "code",
   "execution_count": null,
   "metadata": {},
   "outputs": [],
   "source": [
    "using LinearAlgebra\n",
    "\n",
    "# Defining raising and lowering operators for each corresponding atom number and storing in a single tensor (N dim Vector of 2N*2N Matrices)\n",
    "σ_m = Matrix([0 1; 0 0])\n",
    "σ_p = Matrix([0 0 ; 1 0])\n",
    "σ_ee = Matrix([0 0 ; 0 1])\n",
    "Id = [1 0; 0 1]\n",
    "\n",
    "# Initializing raising and lowering operators for all \n",
    "σ_m_n = [Matrix{Float64}(I, 2^num_atoms, 2^num_atoms) for _ in 1:num_atoms]\n",
    "σ_p_n = [Matrix{Float64}(I, 2^num_atoms, 2^num_atoms) for _ in 1:num_atoms]\n",
    "σ_ee_n = [Matrix{Float64}(I, 2^num_atoms, 2^num_atoms) for _ in 1:num_atoms]\n",
    "c = [Matrix{Float64}(zeros(2^num_atoms, 2^num_atoms)) for _ in 1:num_atoms]\n",
    "\n",
    "# Changing the matrix for corresponding n to be a jump operator for the nth atom\n",
    "σ_m_hold = Id\n",
    "σ_p_hold = Id\n",
    "σ_ee_hold = Id\n",
    "\n",
    "for n in 1:num_atoms\n",
    "    \n",
    "    for a in 1:num_atoms\n",
    "        \n",
    "        if (a == 1) && (n == 1)\n",
    "            σ_m_hold = σ_m\n",
    "            σ_p_hold = σ_p\n",
    "            σ_ee_hold = σ_ee\n",
    "        \n",
    "        elseif (a == 1) && (n != 1)\n",
    "            σ_m_hold = Id\n",
    "            σ_p_hold = Id\n",
    "            σ_ee_hold = Id\n",
    "\n",
    "        elseif (a != 1) && (n == a)\n",
    "            σ_m_hold = kron(σ_m_hold, σ_m)\n",
    "            σ_p_hold = kron(σ_p_hold, σ_p)\n",
    "            σ_ee_hold = kron(σ_ee_hold, σ_ee)\n",
    "        \n",
    "        else\n",
    "            σ_m_hold = kron(σ_m_hold, Id)\n",
    "            σ_p_hold = kron(σ_p_hold, Id)\n",
    "            σ_ee_hold = kron(σ_ee_hold, Id)\n",
    "        end\n",
    "\n",
    "    end\n",
    "    σ_m_n[n] = σ_m_hold\n",
    "    σ_p_n[n] = σ_p_hold\n",
    "    σ_ee_n[n] = σ_ee_hold\n",
    "end\n",
    "\n",
    "σ_ee_sum = zeros(2^(num_atoms), 2^(num_atoms))\n",
    "for n in 1:num_atoms\n",
    "    σ_ee_sum += σ_ee_n[n]\n",
    "end\n",
    "\n",
    "gamma_matrix = (Γ_c .* ones(num_atoms, num_atoms)) .+ (Γ_0 .* Matrix{Float64}(I, num_atoms, num_atoms))\n",
    "\n",
    "eig_vals = eigvals(gamma_matrix)\n",
    "eig_vecs = eigvecs(gamma_matrix)\n",
    "\n",
    "# Defining diagonalized operators\n",
    "for m in 1:num_atoms\n",
    "    for n in 1:num_atoms\n",
    "        c[m] += eig_vecs[n,m] .* σ_m_n[n]\n",
    "    end\n",
    "end\n",
    "\n",
    "# Defining H_eff\n",
    "H_eff = zeros(2^(num_atoms), 2^(num_atoms))\n",
    "\n",
    "for m in 1:num_atoms\n",
    "    H_eff += (-1im .* eig_vals[m] .* c[m]' * c[m])/2\n",
    "end\n",
    "\n",
    "println(eig_vals)"
   ]
  },
  {
   "cell_type": "markdown",
   "metadata": {},
   "source": [
    "Calculating Quantum Trajectories"
   ]
  },
  {
   "cell_type": "code",
   "execution_count": null,
   "metadata": {},
   "outputs": [],
   "source": [
    "time_steps = 1000\n",
    "δt = .001\n",
    "trajectories = 5\n",
    "Id = Matrix{Float64}(I, 2^(num_atoms), 2^(num_atoms))\n",
    "ψ_e = [0,1]\n",
    "ψ_0 = ψ_e\n",
    "\n",
    "for i in 1:num_atoms-1\n",
    "    ψ_0 = kron(ψ_0,ψ_e)\n",
    "end\n",
    "\n",
    "expec_avg = [0.0 for i in 1:time_steps]\n",
    "δp_m = [0.0 for _ in 1:num_atoms]\n",
    "\n",
    "for a in 1:trajectories\n",
    "    expec = [0.0 for i in 1:time_steps]\n",
    "\n",
    "    # Storing wavevector in matrix (2 by time_steps) with initial time set to excited state [0,1]\n",
    "    ψ = Complex[0.0 for i in 1:time_steps, j in 1:2^(num_atoms)]; ψ[1,:] = ψ_0\n",
    "\n",
    "    for t in 1:time_steps-1\n",
    "        # Calculating first order of wavefunction after a time step\n",
    "        first_order = (Id - 1im .* H_eff .* δt) * ψ[t,:]\n",
    "        \n",
    "        # Calculating probability of jump operator acting within time step\n",
    "        δp = 0.0\n",
    "        δp_m = [0.0 for _ in 1:num_atoms]\n",
    "        for m in 1:num_atoms\n",
    "            δp_m[m] = real(δt * (ψ[t,:]' * (eig_vals[m] * c[m]' * c[m]) * ψ[t,:]))\n",
    "            δp += δp_m[m]\n",
    "        end\n",
    "        \n",
    "        # Generating random number to determine action within time step\n",
    "        r = rand(Float64)\n",
    "\n",
    "        # Updating wavevector based on result of r\n",
    "        if r >= δp\n",
    "            ψ[t+1,:] = first_order / (1-δp)^(1/2)\n",
    "\n",
    "        else\n",
    "            # Generating new random number to determine which jump operator to use\n",
    "            r = rand(Float64)\n",
    "\n",
    "            # Normalizing δp_m\n",
    "            δp_norm_const = 1/(sum(δp_m))\n",
    "            δp_norm = δp_norm_const .* δp_m\n",
    "\n",
    "            m_count = 0\n",
    "            p_count = 0\n",
    "            while p_count <= r\n",
    "                m_count += 1\n",
    "                p_count += δp_norm[m_count]\n",
    "                if p_count > r\n",
    "                    ψ[t+1,:] = (eig_vals[m_count])^(1/2) .* c[m_count] * (ψ[t,:]) / (δp_m[m_count]/δt)^(1/2)\n",
    "                end\n",
    "            end\n",
    "        end\n",
    "\n",
    "        # Updating expectation value for each time step\n",
    "        expec[t] = real(ψ[t,:]' * σ_ee_sum * ψ[t,:])\n",
    "        expec_avg[t] = real(expec_avg[t] + expec[t])\n",
    "\n",
    "    end\n",
    "end\n",
    "\n",
    "expec_avg = expec_avg ./ trajectories"
   ]
  },
  {
   "cell_type": "code",
   "execution_count": null,
   "metadata": {},
   "outputs": [],
   "source": [
    "time_arr = [ (n-1)*δt for n in 1:time_steps ]\n",
    "plot(time_arr, expec_avg, linewidth=3)\n",
    "plot!(time_arr_num, σ_ee_exp_num, linewidth=3, linestyle=:dot, color=:black)\n",
    "xlabel!(L\"\\Gamma_0 t\", fontsize=15)\n",
    "ylabel!(L\"<\\sum_i \\sigma_{ee}^i(t)>\", fontsize=15)\n",
    "plot!(legend = false, xtickfontsize=10, ytickfontsize=10)\n",
    "plot!(size=(900, 750))\n",
    "#savefig(\"img6_9\")"
   ]
  }
 ],
 "metadata": {
  "kernelspec": {
   "display_name": "Julia 1.9.3",
   "language": "julia",
   "name": "julia-1.9"
  },
  "language_info": {
   "file_extension": ".jl",
   "mimetype": "application/julia",
   "name": "julia",
   "version": "1.9.3"
  }
 },
 "nbformat": 4,
 "nbformat_minor": 2
}
